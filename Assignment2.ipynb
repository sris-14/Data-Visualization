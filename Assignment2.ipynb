{
 "cells": [
  {
   "cell_type": "code",
   "execution_count": 1,
   "metadata": {},
   "outputs": [
    {
     "name": "stdout",
     "output_type": "stream",
     "text": [
      "stdID    stdname         standard      age    hindi    English    Maths    Science    Computer    Total\n",
      "-------  --------------  ----------  -----  -------  ---------  -------  ---------  ----------  -------\n",
      "std101   Ashish Kumar    10th           15       67         89       87         89          90      422\n",
      "std102   Abhishek Kumar  10th           14       85         45       48         90          45      313\n",
      "std103   Aman            10th           15       23         56       78         78          67      302\n",
      "std104   Rahul           10th           14       45         67       45         45          56      258\n",
      "std105   Ruby            10th           13       89         67       89         93          65      403\n",
      "std106   Suman           10th           13       90         46       67         67          67      337\n",
      "std107   Saurabh         10th           15       45         23       34         45          34      181\n",
      "std108   Sumit           10th           14       23         45       67         78          90      303\n",
      "std109   Kamlesh         10th           15       45         56       78         99          67      345\n",
      "std110   Rohan           10th           15       34         12       24         45          56      171\n"
     ]
    }
   ],
   "source": [
    "#Dictionary\n",
    "from tabulate import tabulate\n",
    "\n",
    "headers = [\"stdID\", \"stdName\", \"Standard\", \"Age\", \"Hindi\", \"English\", \"Maths\", \"Science\", \"Computer\", \"Total\"]\n",
    "\n",
    "students = [\n",
    "    \n",
    "    {\"stdID\": \"std101\", \"stdname\": \"Ashish Kumar\", \"standard\": \"10th\", \"age\": 15, \"hindi\": 67, \"English\": 89, \"Maths\": 87, \"Science\": 89, \"Computer\": 90, \"Total\": 422},\n",
    "    {\"stdID\": \"std102\", \"stdname\": \"Abhishek Kumar\", \"standard\": \"10th\", \"age\": 14, \"hindi\": 85, \"English\": 45, \"Maths\": 48, \"Science\": 90, \"Computer\": 45, \"Total\": 313},\n",
    "    {\"stdID\": \"std103\", \"stdname\": \"Aman\", \"standard\": \"10th\", \"age\": 15, \"hindi\": 23, \"English\": 56, \"Maths\": 78, \"Science\": 78, \"Computer\": 67, \"Total\": 302},\n",
    "    {\"stdID\": \"std104\", \"stdname\": \"Rahul\", \"standard\": \"10th\", \"age\": 14, \"hindi\": 45, \"English\": 67, \"Maths\": 45, \"Science\": 45, \"Computer\": 56, \"Total\": 258},\n",
    "    {\"stdID\": \"std105\", \"stdname\": \"Ruby\", \"standard\": \"10th\", \"age\": 13, \"hindi\": 89, \"English\": 67, \"Maths\": 89, \"Science\": 93, \"Computer\": 65, \"Total\": 403},\n",
    "    {\"stdID\": \"std106\", \"stdname\": \"Suman\", \"standard\": \"10th\", \"age\": 13, \"hindi\": 90, \"English\": 46, \"Maths\": 67, \"Science\": 67, \"Computer\": 67, \"Total\": 337},\n",
    "    {\"stdID\": \"std107\", \"stdname\": \"Saurabh\", \"standard\": \"10th\", \"age\": 15, \"hindi\": 45, \"English\": 23, \"Maths\": 34, \"Science\": 45, \"Computer\": 34, \"Total\": 181},\n",
    "     {\"stdID\": \"std108\", \"stdname\": \"Sumit\", \"standard\": \"10th\", \"age\": 14, \"hindi\": 23, \"English\": 45, \"Maths\": 67, \"Science\": 78, \"Computer\": 90, \"Total\": 303},\n",
    "    {\"stdID\": \"std109\", \"stdname\": \"Kamlesh\", \"standard\": \"10th\", \"age\": 15, \"hindi\": 45, \"English\": 56, \"Maths\": 78, \"Science\": 99, \"Computer\": 67, \"Total\": 345},\n",
    "    {\"stdID\": \"std110\", \"stdname\": \"Rohan\", \"standard\": \"10th\", \"age\": 15, \"hindi\": 34, \"English\": 12, \"Maths\": 24, \"Science\": 45, \"Computer\": 56, \"Total\": 171}\n",
    "]\n",
    "\n",
    "\n",
    "# Printing the table\n",
    "print(tabulate(students, headers=\"keys\"))"
   ]
  },
  {
   "cell_type": "code",
   "execution_count": 2,
   "metadata": {},
   "outputs": [
    {
     "name": "stdout",
     "output_type": "stream",
     "text": [
      "stdID    stdname         standard      age    hindi    English    Maths    Science    Computer    Total\n",
      "-------  --------------  ----------  -----  -------  ---------  -------  ---------  ----------  -------\n",
      "std101   Ashish Kumar    10th           15       67         89       87         89          90      422\n",
      "std102   Abhishek Kumar  10th           14       85         45       48         90          45      313\n",
      "std103   Aman            10th           15       23         56       78         78          67      302\n",
      "std104   Rahul           10th           14       45         67       45         45          56      258\n",
      "std105   Ruby            10th           13       89         67       89         93          65      403\n",
      "std106   Suman           10th           13       90         46       67         67          67      337\n",
      "std107   Saurabh         10th           15       45         23       34         45          34      181\n",
      "std108   Sumit           10th           14       23         45       67         78          90      303\n",
      "std109   Kamlesh         10th           15       45         56       78         99          67      345\n",
      "std110   Rohan           10th           15       34         12       24         45          56      171\n",
      "\n",
      "Students with English marks greater than 50:\n",
      "Ashish Kumar\n",
      "Aman\n",
      "Rahul\n",
      "Ruby\n",
      "Kamlesh\n"
     ]
    }
   ],
   "source": [
    "#Display the name of student whose marks in English is grater than 50\n",
    "# Printing the table\n",
    "print(tabulate(students, headers=\"keys\"))\n",
    "\n",
    "\n",
    "students_english_above_50 = [student[\"stdname\"] for student in students if student[\"English\"] > 50]\n",
    "\n",
    "print(\"\\nStudents with English marks greater than 50:\")\n",
    "for name in students_english_above_50:\n",
    "   print(name)"
   ]
  },
  {
   "cell_type": "code",
   "execution_count": 3,
   "metadata": {},
   "outputs": [
    {
     "name": "stdout",
     "output_type": "stream",
     "text": [
      "stdID    stdname         standard      age    hindi    English    Maths    Science    Computer    Total\n",
      "-------  --------------  ----------  -----  -------  ---------  -------  ---------  ----------  -------\n",
      "std101   Ashish Kumar    10th           15       67         89       87         89          90      422\n",
      "std102   Abhishek Kumar  10th           14       85         45       48         90          45      313\n",
      "std103   Aman            10th           15       23         56       78         78          67      302\n",
      "std104   Rahul           10th           14       45         67       45         45          56      258\n",
      "std105   Ruby            10th           13       89         67       89         93          65      403\n",
      "std106   Suman           10th           13       90         46       67         67          67      337\n",
      "std107   Saurabh         10th           15       45         23       34         45          34      181\n",
      "std108   Sumit           10th           14       23         45       67         78          90      303\n",
      "std109   Kamlesh         10th           15       45         56       78         99          67      345\n",
      "std110   Rohan           10th           15       34         12       24         45          56      171\n",
      "\n",
      "Students with the top four marks in Math:\n",
      "Name: Ruby, Age: 13\n",
      "Name: Ashish Kumar, Age: 15\n",
      "Name: Aman, Age: 15\n",
      "Name: Kamlesh, Age: 15\n"
     ]
    }
   ],
   "source": [
    "#Display Student name and age of top four scorer of maths\n",
    "# Printing the table\n",
    "print(tabulate(students, headers=\"keys\"))\n",
    "\n",
    "top_four_math_students = sorted(students, key=lambda x: x[\"Maths\"], reverse=True)[:4]\n",
    "\n",
    "print(\"\\nStudents with the top four marks in Math:\")\n",
    "for student in top_four_math_students:\n",
    "    print(f\"Name: {student['stdname']}, Age: {student['age']}\")"
   ]
  },
  {
   "cell_type": "code",
   "execution_count": 4,
   "metadata": {},
   "outputs": [
    {
     "name": "stdout",
     "output_type": "stream",
     "text": [
      "stdID    stdname         standard      age    hindi    English    Maths    Science    Computer    Total\n",
      "-------  --------------  ----------  -----  -------  ---------  -------  ---------  ----------  -------\n",
      "std101   Ashish Kumar    10th           15       67         89       87         89          90      422\n",
      "std102   Abhishek Kumar  10th           14       85         45       48         90          45      313\n",
      "std103   Aman            10th           15       23         56       78         78          67      302\n",
      "std104   Rahul           10th           14       45         67       45         45          56      258\n",
      "std105   Ruby            10th           13       89         67       89         93          65      403\n",
      "std106   Suman           10th           13       90         46       67         67          67      337\n",
      "std107   Saurabh         10th           15       45         23       34         45          34      181\n",
      "std108   Sumit           10th           14       23         45       67         78          90      303\n",
      "std109   Kamlesh         10th           15       45         56       78         99          67      345\n",
      "std110   Rohan           10th           15       34         12       24         45          56      171\n",
      "\n",
      "Students with the bottom three scores in Computer:\n",
      "Name: Saurabh, ID: std107, Age: 15\n",
      "Name: Abhishek Kumar, ID: std102, Age: 14\n",
      "Name: Rahul, ID: std104, Age: 14\n"
     ]
    }
   ],
   "source": [
    "#Display name , id ,age of student who are bottom 3 scorer  in computer\n",
    "\n",
    "# Printing the table\n",
    "print(tabulate(students, headers=\"keys\"))\n",
    "\n",
    "# Filter students who have Computer scores and find bottom three scorers in Computer\n",
    "students_with_computer_marks = [student for student in students if student[\"Computer\"] is not None]\n",
    "bottom_three_computer_students = sorted(students_with_computer_marks, key=lambda x: x[\"Computer\"])[:3]\n",
    "\n",
    "print(\"\\nStudents with the bottom three scores in Computer:\")\n",
    "for student in bottom_three_computer_students:\n",
    "    print(f\"Name: {student['stdname']}, ID: {student['stdID']}, Age: {student['age']}\")"
   ]
  }
 ],
 "metadata": {
  "kernelspec": {
   "display_name": "Python 3",
   "language": "python",
   "name": "python3"
  },
  "language_info": {
   "codemirror_mode": {
    "name": "ipython",
    "version": 3
   },
   "file_extension": ".py",
   "mimetype": "text/x-python",
   "name": "python",
   "nbconvert_exporter": "python",
   "pygments_lexer": "ipython3",
   "version": "3.12.4"
  }
 },
 "nbformat": 4,
 "nbformat_minor": 2
}
